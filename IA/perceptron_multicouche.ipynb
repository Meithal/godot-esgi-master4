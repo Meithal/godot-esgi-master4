{
 "cells": [
  {
   "cell_type": "code",
   "execution_count": 87,
   "id": "3aaefb0e",
   "metadata": {},
   "outputs": [],
   "source": [
    "import random\n",
    "import math\n",
    "\n",
    "from tqdm import tqdm"
   ]
  },
  {
   "cell_type": "code",
   "execution_count": 88,
   "id": "cd57a832",
   "metadata": {},
   "outputs": [],
   "source": [
    "def propagate_outer():\n",
    "    pass\n",
    "\n",
    "class MyMLP:\n",
    "\n",
    "    def __init__(self, neurons_per_layer: list[int]):\n",
    "        self.d = list(neurons_per_layer)  # neurons_per_layer (input included)\n",
    "        self.L = len(self.d) - 1\n",
    "        self.W = []\n",
    "        #self.W[l][i][j]\n",
    "        for l in range(len(self.d)):\n",
    "            self.W.append([])\n",
    "            if l == 0:\n",
    "                continue\n",
    "            for i in range(self.d[l - 1] + 1):  # +1 compte le neurone de biais fictif\n",
    "                self.W[l].append([])\n",
    "                for j in range(self.d[l] + 1):\n",
    "                    rdm = random.random() * 2 - 1\n",
    "                    self.W[l][i].append(0.0 if j == 0 else rdm)\n",
    "        self.X = []\n",
    "        self.deltas = []\n",
    "\n",
    "        for l in range(len(self.d)):\n",
    "            self.X.append([])\n",
    "            self.deltas.append([])\n",
    "\n",
    "            for j in range(self.d[l] + 1):\n",
    "                self.X[l].append(1.0 if j == 0 else 0.0)\n",
    "                self.deltas[l].append(0.0)\n",
    "\n",
    "    def _propagate(self, inputs: list[float], is_classification : bool):\n",
    "        assert len(inputs) == self.d[0]\n",
    "        for j in range(len(inputs)):\n",
    "            self.X[0][j+1] = inputs[j]\n",
    "\n",
    "        for l in range(1, self.L+1):\n",
    "            for j in range(1, self.d[l] + 1):\n",
    "                signal = 0\n",
    "                for i in range(self.d[l-1] + 1):\n",
    "                    signal += self.W[l][i][j] * self.X[l - 1][i]\n",
    "                x = signal\n",
    "                if is_classification or l != self.L:\n",
    "                    x = math.tanh(signal)\n",
    "                self.X[l][j] = x\n",
    "\n",
    "    def predict(self, inputs: list[float], is_classification: bool):\n",
    "        self._propagate(inputs, is_classification)\n",
    "        return self.X[self.L][1:]\n",
    "    \n",
    "    def train(self, \n",
    "              all_samples_inputs:list[list[float]],\n",
    "                all_samples_expected_outputs: list[list[float]],\n",
    "                is_classification: bool,\n",
    "                num_iter: int,\n",
    "                alpha: float # learning rate\n",
    "              \n",
    "              ):\n",
    "        assert len(all_samples_inputs) == len(all_samples_expected_outputs)\n",
    "\n",
    "        for _ in tqdm(range(num_iter)):\n",
    "            k = random.randint(0, len(all_samples_inputs) - 1)\n",
    "            inputs_k = all_samples_inputs[k]\n",
    "            outputs_k = all_samples_expected_outputs[k]\n",
    "\n",
    "            self._propagate(inputs_k, is_classification)  # mise a jour des xij\n",
    "\n",
    "            for j in range(self.d[self.L] + 1):\n",
    "                self.deltas[self.L][j] = self.X[self.L][j] - outputs_k[j - 1]\n",
    "                if is_classification:\n",
    "                    self.deltas[self.L][j] *= (1.0 - self.X[self.L][j] ** 2)\n",
    "\n",
    "            for l in reversed(range(2, self.L + 1)):\n",
    "                for i in range(1, self.d[l - 1] + 1):\n",
    "                    total = 0.0\n",
    "                    for j in range(1, self.d[l] + 1):\n",
    "                        total += self.W[l][i][j] * self.deltas[l][j]\n",
    "                    total *= (1.0 - self.X[l - 1][i] ** 2)\n",
    "                    self.deltas[l - 1][i] = total\n",
    "\n",
    "            for l in range(1, self.L + 1):\n",
    "                for i in range(self.d[l-1] + 1):\n",
    "                    for j in range(1, self.d[l] + 1):\n",
    "                        self.W[l][i][j] -= alpha * self.X[l-1][i] * self.deltas[l][j]"
   ]
  },
  {
   "cell_type": "code",
   "execution_count": 89,
   "id": "d80ee7ce",
   "metadata": {},
   "outputs": [
    {
     "name": "stdout",
     "output_type": "stream",
     "text": [
      "[0.7765577267991313]\n"
     ]
    }
   ],
   "source": [
    "mlp = MyMLP([2, 3, 1])\n",
    "mlp.W\n",
    "print(mlp.predict([-42.0, 42.0], True))"
   ]
  },
  {
   "cell_type": "code",
   "execution_count": 90,
   "id": "da6c0973",
   "metadata": {},
   "outputs": [
    {
     "name": "stdout",
     "output_type": "stream",
     "text": [
      "[0.680181085838981]\n",
      "[0.5846564706399958]\n",
      "[0.8025347734345472]\n",
      "[0.7571772161435332]\n"
     ]
    },
    {
     "name": "stderr",
     "output_type": "stream",
     "text": [
      "100%|██████████| 10000/10000 [00:00<00:00, 180606.80it/s]"
     ]
    },
    {
     "name": "stdout",
     "output_type": "stream",
     "text": [
      "[-0.9393834204025406]\n",
      "[0.9155436220418778]\n",
      "[0.9246658823572864]\n",
      "[-0.9114496634803215]\n"
     ]
    },
    {
     "name": "stderr",
     "output_type": "stream",
     "text": [
      "\n"
     ]
    }
   ],
   "source": [
    "xor_inputs = [\n",
    "    [0., 0.],\n",
    "    [1., 0.],\n",
    "    [0., 1.],\n",
    "    [1., 1.]\n",
    "]\n",
    "\n",
    "xor_outputs = [\n",
    "    [-1.],\n",
    "    [1.],\n",
    "    [1.],\n",
    "    [-1.0]\n",
    "]\n",
    "\n",
    "for sample in xor_inputs:\n",
    "    print(mlp.predict(sample, True))\n",
    "\n",
    "mlp.train(xor_inputs, xor_outputs, True, 10000, 0.01)\n",
    "\n",
    "for sample in xor_inputs:\n",
    "    print(mlp.predict(sample, True))\n"
   ]
  }
 ],
 "metadata": {
  "kernelspec": {
   "display_name": "venv",
   "language": "python",
   "name": "python3"
  },
  "language_info": {
   "codemirror_mode": {
    "name": "ipython",
    "version": 3
   },
   "file_extension": ".py",
   "mimetype": "text/x-python",
   "name": "python",
   "nbconvert_exporter": "python",
   "pygments_lexer": "ipython3",
   "version": "3.14.0"
  }
 },
 "nbformat": 4,
 "nbformat_minor": 5
}
