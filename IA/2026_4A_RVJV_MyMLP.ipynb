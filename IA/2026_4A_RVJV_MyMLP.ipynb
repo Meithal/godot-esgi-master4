{
  "nbformat": 4,
  "nbformat_minor": 0,
  "metadata": {
    "colab": {
      "provenance": []
    },
    "kernelspec": {
      "name": "python3",
      "display_name": "Python 3"
    },
    "language_info": {
      "name": "python"
    }
  },
  "cells": [
    {
      "cell_type": "code",
      "source": [
        "from typing import List\n",
        "import math\n",
        "import random\n",
        "from tqdm import tqdm"
      ],
      "metadata": {
        "id": "tKuzDpbs3u7A"
      },
      "execution_count": 147,
      "outputs": []
    },
    {
      "cell_type": "code",
      "execution_count": 148,
      "metadata": {
        "id": "Pp6j2dBc1E8c"
      },
      "outputs": [],
      "source": [
        "class MyMLP:\n",
        "  def __init__(self, npl: List[int]): # npl : neurons_per_layer (input included !)\n",
        "    self.d = list(npl)\n",
        "    self.L = len(npl) - 1\n",
        "    self.W = []\n",
        "    # self.W[l][i][j]\n",
        "\n",
        "    for l in range(0, len(self.d)):\n",
        "      self.W.append([])\n",
        "      if l == 0:\n",
        "        continue\n",
        "\n",
        "      for i in range(0, self.d[l - 1] + 1):\n",
        "        self.W[l].append([])\n",
        "        for j in range(0, self.d[l] + 1):\n",
        "          rdm_value = random.random() * 2.0 - 1.0\n",
        "          self.W[l][i].append(0.0 if j == 0 else rdm_value)\n",
        "\n",
        "    self.X = []\n",
        "    self.deltas = []\n",
        "\n",
        "    for l in range(0, len(self.d)):\n",
        "      self.X.append([])\n",
        "      self.deltas.append([])\n",
        "\n",
        "      for j in range(0, self.d[l] + 1):\n",
        "        self.X[l].append(1.0 if j == 0.0 else 0.0)\n",
        "        self.deltas[l].append(0.0)\n",
        "\n",
        "  def _propagate(self, inputs: List[float], is_classification: bool):\n",
        "    assert(len(inputs) == self.d[0])\n",
        "    for j in range(len(inputs)):\n",
        "      self.X[0][j + 1] = inputs[j]\n",
        "\n",
        "    for l in range(1, self.L + 1):\n",
        "      for j in range(1, self.d[l] + 1):\n",
        "        signal = 0.0\n",
        "        for i in range(0, self.d[l - 1] + 1):\n",
        "          signal += self.W[l][i][j] * self.X[l - 1][i]\n",
        "        x = signal\n",
        "        if is_classification or l != self.L:\n",
        "          x = math.tanh(signal)\n",
        "        self.X[l][j] = x\n",
        "\n",
        "  def predict(self, inputs: List[float], is_classification: bool):\n",
        "    self._propagate(inputs, is_classification)\n",
        "    return self.X[self.L][1:]\n",
        "\n",
        "  def train(self,\n",
        "            all_samples_inputs: List[List[float]],\n",
        "            all_samples_expected_outputs: List[List[float]],\n",
        "            is_classification: bool,\n",
        "            num_iter: int,\n",
        "            alpha: float # learning rate !\n",
        "            ):\n",
        "    assert(len(all_samples_inputs) == len(all_samples_expected_outputs))\n",
        "    for _ in tqdm(range(num_iter)):\n",
        "      k = random.randint(0, len(all_samples_inputs) - 1)\n",
        "      inputs_k = all_samples_inputs[k]\n",
        "      expected_outputs_k = all_samples_expected_outputs[k]\n",
        "      self._propagate(inputs_k, is_classification) # mise à jour des Xlj\n",
        "\n",
        "      for j in range(1, self.d[self.L] + 1):\n",
        "        self.deltas[self.L][j] = self.X[self.L][j] - expected_outputs_k[j - 1]\n",
        "        if is_classification:\n",
        "          self.deltas[self.L][j] *= (1.0 - self.X[self.L][j] ** 2)\n",
        "\n",
        "      for l in reversed(range(2, self.L + 1)):\n",
        "        for i in range(1, self.d[l - 1] + 1):\n",
        "          total = 0.0\n",
        "          for j in range(1, self.d[l] + 1):\n",
        "            total += self.W[l][i][j] * self.deltas[l][j]\n",
        "\n",
        "          total *= (1.0 - self.X[l - 1][i] ** 2)\n",
        "          self.deltas[l - 1][i] = total\n",
        "\n",
        "      for l in range(1, self.L + 1):\n",
        "        for i in range(0, self.d[l - 1] + 1):\n",
        "          for j in range(1, self.d[l] + 1):\n",
        "            self.W[l][i][j] -= alpha * self.X[l - 1][i] * self.deltas[l][j]"
      ]
    },
    {
      "cell_type": "code",
      "source": [
        "mlp = MyMLP([2, 3, 1])\n",
        "print(mlp.W)\n",
        "print(mlp.X)\n",
        "print(mlp.deltas)"
      ],
      "metadata": {
        "colab": {
          "base_uri": "https://localhost:8080/"
        },
        "id": "gI_O0C2S7aKf",
        "outputId": "61491c70-edb1-4437-d973-c17a516591db"
      },
      "execution_count": 149,
      "outputs": [
        {
          "output_type": "stream",
          "name": "stdout",
          "text": [
            "[[], [[0.0, 0.7981894439990236, 0.5685884295410522, 0.6878590798555286], [0.0, 0.7577210771839882, 0.4255303778389341, -0.4664318384223167], [0.0, -0.32577188772254373, 0.6056094432201462, -0.07139853179550149]], [[0.0, 0.6023265389895947], [0.0, -0.2751625881922759], [0.0, 0.9958794750570799], [0.0, 0.43969114883403826]]]\n",
            "[[1.0, 0.0, 0.0], [1.0, 0.0, 0.0, 0.0], [1.0, 0.0]]\n",
            "[[0.0, 0.0, 0.0], [0.0, 0.0, 0.0, 0.0], [0.0, 0.0]]\n"
          ]
        }
      ]
    },
    {
      "cell_type": "code",
      "source": [
        "xor_inputs = [\n",
        "    [0.0, 0.0],\n",
        "    [1.0, 0.0],\n",
        "    [0.0, 1.0],\n",
        "    [1.0, 1.0]\n",
        "]\n",
        "xor_expected_outputs = [\n",
        "    [-1.0],\n",
        "    [1.0],\n",
        "    [1.0],\n",
        "    [-1.0],\n",
        "]\n",
        "\n",
        "print(\"Predictions avant entrainement :\")\n",
        "for sample_inputs in xor_inputs:\n",
        "  print(mlp.predict(sample_inputs, True))\n",
        "\n",
        "mlp.train(xor_inputs, xor_expected_outputs, True, 1000000, 0.01)\n",
        "print()\n",
        "print(\"Predictions après entrainement :\")\n",
        "for sample_inputs in xor_inputs:\n",
        "  print(mlp.predict(sample_inputs, True))"
      ],
      "metadata": {
        "colab": {
          "base_uri": "https://localhost:8080/"
        },
        "id": "_uVpmII9AOEG",
        "outputId": "db40b416-27ae-4ccf-fca2-6b9edfcb69aa"
      },
      "execution_count": 150,
      "outputs": [
        {
          "output_type": "stream",
          "name": "stdout",
          "text": [
            "Predictions avant entrainement :\n",
            "[0.8319421294017273]\n",
            "[0.8343864843322336]\n",
            "[0.9129009825240344]\n",
            "[0.8749413678031982]\n"
          ]
        },
        {
          "output_type": "stream",
          "name": "stderr",
          "text": [
            "100%|██████████| 1000000/1000000 [00:10<00:00, 96250.78it/s]"
          ]
        },
        {
          "output_type": "stream",
          "name": "stdout",
          "text": [
            "\n",
            "Predictions après entrainement :\n",
            "[-0.993922863047017]\n",
            "[0.9923754780495251]\n",
            "[0.9960249797256542]\n",
            "[-0.9927994984456048]\n"
          ]
        },
        {
          "output_type": "stream",
          "name": "stderr",
          "text": [
            "\n"
          ]
        }
      ]
    },
    {
      "cell_type": "code",
      "source": [],
      "metadata": {
        "id": "XDA47n-gEqKu"
      },
      "execution_count": 150,
      "outputs": []
    }
  ]
}